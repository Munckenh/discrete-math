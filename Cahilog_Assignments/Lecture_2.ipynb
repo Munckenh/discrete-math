{
 "cells": [
  {
   "cell_type": "markdown",
   "id": "f5a24b64-cd2e-4051-9560-3ef040680bb6",
   "metadata": {},
   "source": [
    "# Lecture 1 Assignment\n",
    "\n",
    "- Name: *Kenneth Cahilog*\n",
    "- ID number: *23104856*\n",
    "- Course: *Bachelor of Science in Computer Science*"
   ]
  },
  {
   "cell_type": "markdown",
   "id": "c370a406-4a8a-4cd1-b7fc-d591bbffcd77",
   "metadata": {},
   "source": [
    "## Task 1\n",
    "\n",
    "Consider the following experiment:\n",
    "\n",
    "1. The experiment consists of $n$ identical trials.\n",
    "2. The outcome of each trial falls into one of $k$ classes or cells.\n",
    "3. The probability that the outcome of a single trial falls into cell $i$, is $p_i,i = 1,2,...,k$ and remains the same from trial to trial. Notice that $p_1+p_2+p_3+···+p_k =1.$\n",
    "4. The trials are independent.\n",
    "5. The random variables of interest are $Y_1 , Y_2 , . . . , Y_k$, where $Y_i$ equals the number of trials for which the outcome falls into cell $i$. Notice that $Y_1 +Y_2 +Y_3 +···+Y_k =n$.\n",
    "6. The joint probability distribution $P(y) = \\frac{n!}{y_1!y_2!y_3!...y_n!} P_1^{y_1} P_2^{y_2} P_3^{y_3}....P_n^{y_n}$\n",
    "\n",
    "Answer the following questions:\n",
    "\n",
    "- Question 1: Show that the expected value $E[y] = \\Sigma y \\cdotp P(y) = n \\cdot p_i$\n",
    "- Question 2: Given the following data, If 500 adults are sampled  randomly, find the probability rhat the sample contains 100 person between 18 and 24, 200 between, 200 between the ages of 25 and 34, and 200 between the ages of 45 and 64.. What is the expected value for to obtain a person in the 65 and above?\n",
    "\n",
    "\\begin{gather}\n",
    "\\begin{bmatrix}\n",
    "\\begin{array}{c|c}\n",
    "Age & Proportion \\\\\n",
    "18-24 & 0.18 \\\\\n",
    "25-34 & 0.23 \\\\\n",
    "35-44 & 0.16 \\\\\n",
    "45-64 & 0.27 \\\\\n",
    "65-100 & 0.16 \\\\\n",
    "\\end{array}\n",
    "\\end{bmatrix}\n",
    "\\end{gather}"
   ]
  },
  {
   "cell_type": "markdown",
   "id": "be9cf2b5-c8a5-49f7-8d8c-7a764019cbc5",
   "metadata": {},
   "source": [
    "### Question 1"
   ]
  },
  {
   "cell_type": "markdown",
   "id": "f0f2ed12-6f10-45f1-9801-182ea9e50e90",
   "metadata": {},
   "source": [
    "## Task 2\n",
    "\n",
    "Consider the following experiment:\n",
    "\n",
    "1. The experiment consists of a fixed number, $n$, of identical trials.\n",
    "2. Each trial results in one of two outcomes: success, $S$, or failure, $F$.\n",
    "3. The probability of success on a single trial is equal to some value $p$ and remains the same from trial to trial. The probability of a failure is equal to q = $(1 − p)$.\n",
    "4. The trials are independent.\n",
    "5. The random variable of interest is $Y$ , the number of successes observed during the $n$ trials.\n",
    "\n",
    "Answer the following questions:\n",
    "\n",
    "- Question 1: From the following steps shown above, derive the probability distribution of the experiment.\n",
    "- Question 2: Show that the expectation of this probability distribution is $E[y] = \\Sigma y \\cdotp P(y) = np$.\n",
    "- Question 3: Experience has shown that 30% of all persons afflicted by a certain illness recover. A drug company has developed a new medication. Ten people with the illness were selected at random and received the medication; nine recovered shortly thereafter. Suppose that the medication was absolutely worthless. What is the probability that at least nine of ten receiving the medication will recover?\n",
    "- Question 4: Suppose that a lot of 5000 electrical fuses contains 5% defectives. If a sample of 5 fuses is tested, find the probability of observing at least one defective."
   ]
  },
  {
   "cell_type": "markdown",
   "id": "3cefdf25-1527-4c3f-a9f3-6a8fbace907c",
   "metadata": {},
   "source": [
    "## Task 3\n",
    "\n",
    "Consider a probility distribution of $p(y) = \\frac{\\lambda^y}{y!} e^{-\\lambda}$. Answer the following questions:\n",
    "\n",
    "- Question 1: Find a general formula for the expected value of this distribution.\n",
    "- Question 2: A certain type of tree has seedlings randomly dispersed in a large area, with the mean density of seedlings being approximately five per square yard. If a forester randomly locates ten 1-square-yard sampling regions in the area, find the probability that none of the regions will contain seedlings."
   ]
  }
 ],
 "metadata": {
  "kernelspec": {
   "display_name": "Python 3 (ipykernel)",
   "language": "python",
   "name": "python3"
  },
  "language_info": {
   "codemirror_mode": {
    "name": "ipython",
    "version": 3
   },
   "file_extension": ".py",
   "mimetype": "text/x-python",
   "name": "python",
   "nbconvert_exporter": "python",
   "pygments_lexer": "ipython3",
   "version": "3.11.4"
  }
 },
 "nbformat": 4,
 "nbformat_minor": 5
}
